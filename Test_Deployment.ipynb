{
  "cells": [
    {
      "cell_type": "markdown",
      "metadata": {
        "id": "ibFnynbfMEZM"
      },
      "source": [
        "## Test Model Deployment TF-Serving Docker"
      ]
    },
    {
      "cell_type": "code",
      "execution_count": 26,
      "metadata": {
        "id": "jRUe5yE4Mkay"
      },
      "outputs": [],
      "source": [
        "import tensorflow as tf\n",
        "import numpy as np\n",
        "import requests"
      ]
    },
    {
      "cell_type": "code",
      "execution_count": 27,
      "metadata": {
        "colab": {
          "base_uri": "https://localhost:8080/",
          "height": 703
        },
        "id": "SFBiPsnmMOnD",
        "outputId": "d0db6032-a547-4f16-daaa-a30368c38ca0"
      },
      "outputs": [
        {
          "name": "stdout",
          "output_type": "stream",
          "text": [
            "{'predictions': [[0.372413754, 0.000704990118, 0.000647542649, 7.27516308e-05, 0.257184744, 0.0275712367, 0.000223024574, 0.000152305671, 3.18311249e-05, 1.7026603e-05, 6.29564238e-05, 0.0606278479, 0.000981050776, 0.000419029791, 0.278889835]]}\n",
            "Predicted class: bean\n"
          ]
        }
      ],
      "source": [
        "import tensorflow as tf\n",
        "import requests\n",
        "import json\n",
        "import numpy as np\n",
        "\n",
        "def images_preprocessing(filename):\n",
        "    image = tf.io.decode_image(open(filename, 'rb').read(), channels=3)\n",
        "    image = tf.image.resize(image, [150, 150])\n",
        "    image = image / 255.\n",
        "\n",
        "    # Memperluas dimensi gambar menjadi batch\n",
        "    image_tensor = tf.expand_dims(image, 0)\n",
        "\n",
        "    return image_tensor\n",
        "\n",
        "filename = 'image/brokoli.jpg'\n",
        "image_tensor = images_preprocessing(filename=filename)\n",
        "\n",
        "# Konversi tensor TensorFlow menjadi list NumPy\n",
        "image_list = image_tensor.numpy().tolist()\n",
        "\n",
        "# Data JSON yang akan dikirim ke model\n",
        "json_data = {\n",
        "    \"signature_name\": \"serving_default\",  # Nama signature yang sesuai dengan model\n",
        "    \"instances\": image_list\n",
        "}\n",
        "\n",
        "# Endpoint TensorFlow Serving\n",
        "endpoint = \"http://localhost:8501/v1/models/veg_model:predict\"\n",
        "\n",
        "# Mengirim permintaan POST ke endpoint\n",
        "response = requests.post(endpoint, data=json.dumps(json_data))\n",
        "\n",
        "# Mencetak respons JSON untuk debugging\n",
        "print(response.json())\n",
        "\n",
        "# Membaca hasil prediksi\n",
        "predictions = response.json().get('predictions', None)\n",
        "\n",
        "# Peta kelas\n",
        "map_labels = {\n",
        "    0: 'bean',\n",
        "    1: 'bitter gourd',\n",
        "    2: 'bottle gourd',\n",
        "    3: 'brinjal',\n",
        "    4: 'broccoli',\n",
        "    5: 'cabbage',\n",
        "    6: 'capsicum',\n",
        "    7: 'carrot',\n",
        "    8: 'cauliflower',\n",
        "    9: 'cucumber',\n",
        "    10: 'papaya',\n",
        "    11: 'potato',\n",
        "    12: 'pumpkin',\n",
        "    13: 'radish',\n",
        "    14: 'tomato'\n",
        "}\n",
        "\n",
        "if predictions is not None:\n",
        "    # Jika kunci 'predictions' ditemukan\n",
        "    prediction = np.argmax(predictions[0])\n",
        "    print(\"Predicted class:\", map_labels[prediction])\n",
        "else:\n",
        "    # Jika kunci 'predictions' tidak ditemukan\n",
        "    print(\"No predictions key found in the response.\")\n",
        "    print(\"Response:\", response.json())\n"
      ]
    }
  ],
  "metadata": {
    "colab": {
      "provenance": []
    },
    "kernelspec": {
      "display_name": "Python 3",
      "name": "python3"
    },
    "language_info": {
      "codemirror_mode": {
        "name": "ipython",
        "version": 3
      },
      "file_extension": ".py",
      "mimetype": "text/x-python",
      "name": "python",
      "nbconvert_exporter": "python",
      "pygments_lexer": "ipython3",
      "version": "3.11.7"
    }
  },
  "nbformat": 4,
  "nbformat_minor": 0
}
