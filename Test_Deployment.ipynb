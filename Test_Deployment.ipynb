{
  "cells": [
    {
      "cell_type": "markdown",
      "metadata": {
        "id": "ibFnynbfMEZM"
      },
      "source": [
        "## Test Model Deployment TF-Serving Docker"
      ]
    },
    {
      "cell_type": "code",
      "execution_count": 59,
      "metadata": {
        "id": "jRUe5yE4Mkay"
      },
      "outputs": [],
      "source": [
        "import tensorflow as tf\n",
        "import requests\n",
        "from PIL import Image\n",
        "import numpy as np\n",
        "from tensorflow.keras.preprocessing.image import load_img\n",
        "from tensorflow.keras.applications.efficientnet import preprocess_input\n",
        "import tempfile\n",
        "import os"
      ]
    },
    {
      "cell_type": "code",
      "execution_count": 63,
      "metadata": {
        "colab": {
          "base_uri": "https://localhost:8080/",
          "height": 703
        },
        "id": "SFBiPsnmMOnD",
        "outputId": "d0db6032-a547-4f16-daaa-a30368c38ca0"
      },
      "outputs": [
        {
          "name": "stdout",
          "output_type": "stream",
          "text": [
            "The predicted label is: Cauliflower\n"
          ]
        }
      ],
      "source": [
        "def preprocess_and_predict_docker(image_path, model_url, class_labels):\n",
        "    # Load and preprocess the image using Keras\n",
        "    image = load_img(image_path, target_size=(224, 224))\n",
        "    x = np.array(image)\n",
        "    X = np.array([x])\n",
        "    X = preprocess_input(X)\n",
        "\n",
        "    # Prepare JSON data for TensorFlow Serving API\n",
        "    json_data = {\"instances\": X.tolist()}\n",
        "\n",
        "    # Make a prediction using TensorFlow Serving Docker container\n",
        "    response = requests.post(model_url, json=json_data)\n",
        "    prediction = response.json()['predictions'][0]\n",
        "\n",
        "    # Decode the predictions\n",
        "    preds = dict(zip(class_labels, prediction))\n",
        "\n",
        "    # Get the predicted class label\n",
        "    max_value = max(preds.values())\n",
        "    max_label = [label for label, value in preds.items() if value == max_value]\n",
        "    predicted_label = max_label[0]\n",
        "\n",
        "    return predicted_label\n",
        "\n",
        "# Example usage\n",
        "image_path = r'D:\\DATA SCIENCE\\MACHINE LEARNING\\Klasifikasi Sayuran\\image_test\\cauliflower.jpg'\n",
        "model_url = \"http://localhost:8501/v1/models/veg_model:predict\"\n",
        "class_labels = ['Bean', 'Bitter_Gourd', 'Bottle_Gourd', 'Brinjal', 'Broccoli', 'Cabbage', 'Capsicum', 'Carrot', 'Cauliflower', 'Cucumber', 'Papaya', 'Potato', 'Pumpkin', 'Radish', 'Tomato']\n",
        "\n",
        "predicted_label = preprocess_and_predict_docker(image_path, model_url, class_labels)\n",
        "print(f\"The predicted label is: {predicted_label}\")"
      ]
    }
  ],
  "metadata": {
    "colab": {
      "provenance": []
    },
    "kernelspec": {
      "display_name": "Python 3",
      "name": "python3"
    },
    "language_info": {
      "codemirror_mode": {
        "name": "ipython",
        "version": 3
      },
      "file_extension": ".py",
      "mimetype": "text/x-python",
      "name": "python",
      "nbconvert_exporter": "python",
      "pygments_lexer": "ipython3",
      "version": "3.11.7"
    }
  },
  "nbformat": 4,
  "nbformat_minor": 0
}
