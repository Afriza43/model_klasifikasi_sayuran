{
  "cells": [
    {
      "cell_type": "markdown",
      "metadata": {
        "id": "IWrKfuwcH3eW"
      },
      "source": [
        "# Vegetables Classification"
      ]
    },
    {
      "cell_type": "markdown",
      "metadata": {
        "id": "3bQ6ko0UHyC5"
      },
      "source": [
        "## Import Library"
      ]
    },
    {
      "cell_type": "code",
      "execution_count": 1,
      "metadata": {
        "id": "vilf93Q0Fiwb"
      },
      "outputs": [],
      "source": [
        "import numpy as np\n",
        "import pandas as pd\n",
        "import matplotlib.pyplot as plt\n",
        "import tensorflow as tf\n",
        "from tensorflow import keras\n",
        "from keras.layers import Conv2D, MaxPooling2D, Flatten, Dense, BatchNormalization, Dropout ,GlobalAveragePooling2D\n",
        "from keras.models import Sequential\n",
        "from keras.preprocessing import image\n",
        "from keras.preprocessing.image import ImageDataGenerator\n",
        "from tensorflow.keras.applications import VGG16, EfficientNetB0\n",
        "from sklearn.metrics import confusion_matrix,classification_report\n",
        "import os, shutil\n",
        "import warnings\n",
        "warnings.filterwarnings('ignore')"
      ]
    },
    {
      "cell_type": "markdown",
      "metadata": {
        "id": "JyysaNbMH0_O"
      },
      "source": [
        "## Download Dataset"
      ]
    },
    {
      "cell_type": "code",
      "execution_count": 2,
      "metadata": {
        "colab": {
          "base_uri": "https://localhost:8080/"
        },
        "id": "jqlat_GOGOT5",
        "outputId": "a2f6d913-589b-47df-8977-a24327cbfb12"
      },
      "outputs": [
        {
          "output_type": "stream",
          "name": "stdout",
          "text": [
            "Please provide your Kaggle credentials to download this dataset. Learn more: http://bit.ly/kaggle-creds\n",
            "Your Kaggle username: afrizameidioandhana\n",
            "Your Kaggle Key: ··········\n",
            "Downloading vegetable-image-dataset.zip to ./vegetable-image-dataset\n"
          ]
        },
        {
          "output_type": "stream",
          "name": "stderr",
          "text": [
            "100%|██████████| 534M/534M [00:05<00:00, 110MB/s] \n"
          ]
        },
        {
          "output_type": "stream",
          "name": "stdout",
          "text": [
            "\n"
          ]
        }
      ],
      "source": [
        "!pip install -q opendatasets\n",
        "\n",
        "import opendatasets as od\n",
        "\n",
        "od.download('https://www.kaggle.com/datasets/misrakahmed/vegetable-image-dataset')"
      ]
    },
    {
      "cell_type": "code",
      "execution_count": 5,
      "metadata": {
        "id": "wFPan0s5F1QG"
      },
      "outputs": [],
      "source": [
        "train_data = \"/content/vegetable-image-dataset/Vegetable Images/train\"\n",
        "validation_data = \"/content/vegetable-image-dataset/Vegetable Images/validation\""
      ]
    },
    {
      "cell_type": "markdown",
      "source": [
        "## Augmentasi Gambar"
      ],
      "metadata": {
        "id": "yVhzF9UrkUlF"
      }
    },
    {
      "cell_type": "code",
      "execution_count": 6,
      "metadata": {
        "colab": {
          "base_uri": "https://localhost:8080/"
        },
        "id": "dvEv9g9uHxnw",
        "outputId": "b46e0252-c989-4355-87d1-800697bf3247"
      },
      "outputs": [
        {
          "output_type": "stream",
          "name": "stdout",
          "text": [
            "Found 15000 images belonging to 15 classes.\n",
            "Found 3000 images belonging to 15 classes.\n"
          ]
        }
      ],
      "source": [
        "train_gen = ImageDataGenerator( featurewise_center=False,\n",
        "                                samplewise_center=False,\n",
        "                                featurewise_std_normalization=False,\n",
        "                                samplewise_std_normalization=False,\n",
        "                                zca_whitening=False,\n",
        "                                rotation_range=10,\n",
        "                                zoom_range = 0.1,\n",
        "                                width_shift_range=0.2,\n",
        "                                height_shift_range=0.2,\n",
        "                                horizontal_flip=True,\n",
        "                                vertical_flip=False,\n",
        "                              )\n",
        "\n",
        "train_image_generator = train_gen.flow_from_directory(\n",
        "                                            train_data,\n",
        "                                            target_size=(224, 224),\n",
        "                                            batch_size=32,\n",
        "                                            class_mode='categorical')\n",
        "\n",
        "\n",
        "val_gen = ImageDataGenerator()\n",
        "val_image_generator = val_gen.flow_from_directory(\n",
        "                                            validation_data,\n",
        "                                            target_size=(224, 224),\n",
        "                                            batch_size=32,\n",
        "                                            class_mode='categorical')"
      ]
    },
    {
      "cell_type": "markdown",
      "source": [
        "## Transfer Learning"
      ],
      "metadata": {
        "id": "qOIW0eDNac0q"
      }
    },
    {
      "cell_type": "code",
      "source": [
        "base_model = EfficientNetB0(weights='imagenet', include_top=False, input_shape=(224, 224, 3))\n",
        "\n",
        "# Freeze the base model layers\n",
        "base_model.trainable = False"
      ],
      "metadata": {
        "colab": {
          "base_uri": "https://localhost:8080/"
        },
        "id": "-zpYWH-SaBfb",
        "outputId": "d6fff687-99b3-414f-9898-6514f780fe7a"
      },
      "execution_count": 7,
      "outputs": [
        {
          "output_type": "stream",
          "name": "stdout",
          "text": [
            "Downloading data from https://storage.googleapis.com/keras-applications/efficientnetb0_notop.h5\n",
            "16705208/16705208 [==============================] - 0s 0us/step\n"
          ]
        }
      ]
    },
    {
      "cell_type": "markdown",
      "source": [
        "## CNN Model"
      ],
      "metadata": {
        "id": "1t9kxbYlkahZ"
      }
    },
    {
      "cell_type": "code",
      "execution_count": 8,
      "metadata": {
        "id": "f-CyIDEQIRKg"
      },
      "outputs": [],
      "source": [
        "learning_rate = 0.001\n",
        "dropout_rate = 0.5\n",
        "dense_rate = 128\n",
        "\n",
        "model = tf.keras.models.Sequential([\n",
        "      base_model,\n",
        "      GlobalAveragePooling2D(),\n",
        "      Dense(dense_rate, activation='relu'),\n",
        "      Dropout(dropout_rate),\n",
        "      Dense(15, activation='softmax')  # Adjust 15 for your number of classes\n",
        "      ])\n",
        "\n",
        "model.compile(optimizer=keras.optimizers.Adam(learning_rate=learning_rate),\n",
        "              loss='categorical_crossentropy',\n",
        "              metrics=['accuracy'])"
      ]
    },
    {
      "cell_type": "markdown",
      "source": [
        "## Callback"
      ],
      "metadata": {
        "id": "E2MGE8yykdaQ"
      }
    },
    {
      "cell_type": "code",
      "source": [
        "checkpoint = keras.callbacks.ModelCheckpoint(\n",
        "             'efficinentB0_best.h5',\n",
        "             save_best_only=True,\n",
        "             monitor='val_accuracy',\n",
        "             mode='max')"
      ],
      "metadata": {
        "id": "wVTgygvfbxeB"
      },
      "execution_count": 9,
      "outputs": []
    },
    {
      "cell_type": "code",
      "execution_count": 10,
      "metadata": {
        "id": "rQIGtXDqJYKe"
      },
      "outputs": [],
      "source": [
        "class myCallback(tf.keras.callbacks.Callback):\n",
        "  def on_epoch_end(self, epoch, logs={}):\n",
        "    if(logs.get('accuracy')>0.99 and logs.get('val_accuracy')>0.99):\n",
        "      print(\"accuracy > 99% skala data\")\n",
        "      self.model.stop_training = True\n",
        "callbacks = myCallback()\n",
        "\n",
        "early_stopping = keras.callbacks.EarlyStopping(patience=3,monitor='val_loss',restore_best_weights=True)"
      ]
    },
    {
      "cell_type": "markdown",
      "source": [
        "## Model Train"
      ],
      "metadata": {
        "id": "ZSdwtYWckfLi"
      }
    },
    {
      "cell_type": "code",
      "execution_count": 11,
      "metadata": {
        "id": "xhUzw3p4JZTo",
        "colab": {
          "base_uri": "https://localhost:8080/"
        },
        "outputId": "dd8f3be4-7cd5-41f2-83a7-6ab078d410b4"
      },
      "outputs": [
        {
          "output_type": "stream",
          "name": "stdout",
          "text": [
            "Epoch 1/10\n",
            "469/469 [==============================] - 228s 444ms/step - loss: 0.2217 - accuracy: 0.9433 - val_loss: 0.0133 - val_accuracy: 0.9987\n",
            "Epoch 2/10\n",
            "469/469 [==============================] - 198s 421ms/step - loss: 0.0397 - accuracy: 0.9895 - val_loss: 0.0052 - val_accuracy: 0.9987\n",
            "Epoch 3/10\n",
            "469/469 [==============================] - 209s 445ms/step - loss: 0.0274 - accuracy: 0.9925 - val_loss: 0.0035 - val_accuracy: 0.9990\n",
            "Epoch 4/10\n",
            "469/469 [==============================] - 198s 423ms/step - loss: 0.0177 - accuracy: 0.9949 - val_loss: 0.0029 - val_accuracy: 0.9990\n",
            "Epoch 5/10\n",
            "469/469 [==============================] - 196s 418ms/step - loss: 0.0206 - accuracy: 0.9943 - val_loss: 0.0030 - val_accuracy: 0.9990\n",
            "Epoch 6/10\n",
            "469/469 [==============================] - 198s 422ms/step - loss: 0.0155 - accuracy: 0.9958 - val_loss: 0.0021 - val_accuracy: 0.9993\n",
            "Epoch 7/10\n",
            "469/469 [==============================] - 199s 424ms/step - loss: 0.0161 - accuracy: 0.9953 - val_loss: 0.0013 - val_accuracy: 0.9997\n",
            "Epoch 8/10\n",
            "469/469 [==============================] - 199s 423ms/step - loss: 0.0133 - accuracy: 0.9958 - val_loss: 0.0031 - val_accuracy: 0.9997\n",
            "Epoch 9/10\n",
            "469/469 [==============================] - 202s 430ms/step - loss: 0.0136 - accuracy: 0.9956 - val_loss: 0.0037 - val_accuracy: 0.9987\n",
            "Epoch 10/10\n",
            "469/469 [==============================] - 198s 422ms/step - loss: 0.0084 - accuracy: 0.9977 - val_loss: 0.0023 - val_accuracy: 0.9993\n"
          ]
        }
      ],
      "source": [
        "history = model.fit(train_image_generator,\n",
        "                    validation_data=val_image_generator,\n",
        "                    epochs=10,\n",
        "                    callbacks=[checkpoint])"
      ]
    },
    {
      "cell_type": "markdown",
      "source": [
        "## Evaluasi Model"
      ],
      "metadata": {
        "id": "teXEPv7mkiY9"
      }
    },
    {
      "cell_type": "code",
      "source": [
        "model.evaluate(train_image_generator)"
      ],
      "metadata": {
        "colab": {
          "base_uri": "https://localhost:8080/"
        },
        "id": "DPsQNSSMch9X",
        "outputId": "5d0f39e7-a15f-47df-f12d-8b9baa949db3"
      },
      "execution_count": 12,
      "outputs": [
        {
          "output_type": "stream",
          "name": "stdout",
          "text": [
            "469/469 [==============================] - 192s 408ms/step - loss: 0.0012 - accuracy: 0.9997\n"
          ]
        },
        {
          "output_type": "execute_result",
          "data": {
            "text/plain": [
              "[0.00119278475176543, 0.999666690826416]"
            ]
          },
          "metadata": {},
          "execution_count": 12
        }
      ]
    },
    {
      "cell_type": "code",
      "source": [
        "model.evaluate(val_image_generator)"
      ],
      "metadata": {
        "colab": {
          "base_uri": "https://localhost:8080/"
        },
        "id": "brMJTA2ZcmMT",
        "outputId": "334b0e21-b4c1-4ecb-f095-7e43b0dd984b"
      },
      "execution_count": 13,
      "outputs": [
        {
          "output_type": "stream",
          "name": "stdout",
          "text": [
            "94/94 [==============================] - 6s 68ms/step - loss: 0.0023 - accuracy: 0.9993\n"
          ]
        },
        {
          "output_type": "execute_result",
          "data": {
            "text/plain": [
              "[0.0023390641435980797, 0.9993333220481873]"
            ]
          },
          "metadata": {},
          "execution_count": 13
        }
      ]
    },
    {
      "cell_type": "code",
      "execution_count": 14,
      "metadata": {
        "id": "ZMxt-K46KgSt",
        "colab": {
          "base_uri": "https://localhost:8080/",
          "height": 447
        },
        "outputId": "3452170f-b758-4804-e9dc-987a2b47793b"
      },
      "outputs": [
        {
          "output_type": "execute_result",
          "data": {
            "text/plain": [
              "<Axes: >"
            ]
          },
          "metadata": {},
          "execution_count": 14
        },
        {
          "output_type": "display_data",
          "data": {
            "text/plain": [
              "<Figure size 640x480 with 1 Axes>"
            ],
            "image/png": "[encoded data removed]"
          },
          "metadata": {}
        }
      ],
      "source": [
        "pd.DataFrame(history.history).plot()"
      ]
    },
    {
      "cell_type": "markdown",
      "source": [
        "## Testing"
      ],
      "metadata": {
        "id": "8tJaHU_M2nLM"
      }
    },
    {
      "cell_type": "code",
      "source": [
        "test_data = \"/content/vegetable-image-dataset/Vegetable Images/test\""
      ],
      "metadata": {
        "id": "RNcmVWGiTJNT"
      },
      "execution_count": 15,
      "outputs": []
    },
    {
      "cell_type": "code",
      "source": [
        "test_gen = ImageDataGenerator()\n",
        "test_image_generator = test_gen.flow_from_directory(\n",
        "                                            test_data,\n",
        "                                            target_size=(224, 224),\n",
        "                                            batch_size=32,\n",
        "                                            class_mode='categorical')"
      ],
      "metadata": {
        "colab": {
          "base_uri": "https://localhost:8080/"
        },
        "id": "PeCokqwqS9-_",
        "outputId": "b016db09-731c-4a57-8f5b-a642a8bed6fe"
      },
      "execution_count": 16,
      "outputs": [
        {
          "output_type": "stream",
          "name": "stdout",
          "text": [
            "Found 3000 images belonging to 15 classes.\n"
          ]
        }
      ]
    },
    {
      "cell_type": "code",
      "source": [
        "model = keras.models.load_model('/content/efficinentB0_best.h5')"
      ],
      "metadata": {
        "id": "YZSsScXbTove"
      },
      "execution_count": 17,
      "outputs": []
    },
    {
      "cell_type": "code",
      "source": [
        "model.evaluate(test_image_generator)"
      ],
      "metadata": {
        "colab": {
          "base_uri": "https://localhost:8080/"
        },
        "id": "4p-123BaT021",
        "outputId": "e7872791-5d30-4bfc-c66c-a79d425d15fb"
      },
      "execution_count": 19,
      "outputs": [
        {
          "output_type": "stream",
          "name": "stdout",
          "text": [
            "94/94 [==============================] - 8s 73ms/step - loss: 0.0028 - accuracy: 0.9993\n"
          ]
        },
        {
          "output_type": "execute_result",
          "data": {
            "text/plain": [
              "[0.002812911057844758, 0.9993333220481873]"
            ]
          },
          "metadata": {},
          "execution_count": 19
        }
      ]
    },
    {
      "cell_type": "code",
      "source": [
        "from tensorflow.keras.preprocessing.image import load_img\n",
        "\n",
        "image_path = '/content/vegetable-image-dataset/Vegetable Images/test/Tomato/1004.jpg'\n",
        "image = load_img(image_path, target_size = (224, 224))\n",
        "x = np.array(image)\n",
        "X = np.array([x])"
      ],
      "metadata": {
        "id": "F2YjWyyRT49L"
      },
      "execution_count": 47,
      "outputs": []
    },
    {
      "cell_type": "code",
      "source": [
        "from tensorflow.keras.applications.efficientnet import preprocess_input\n",
        "\n",
        "X = preprocess_input(X)"
      ],
      "metadata": {
        "id": "COwWy4m72m1z"
      },
      "execution_count": 48,
      "outputs": []
    },
    {
      "cell_type": "code",
      "source": [
        "pred = model.predict(X)\n",
        "pred"
      ],
      "metadata": {
        "colab": {
          "base_uri": "https://localhost:8080/"
        },
        "id": "6bGdpl_wUS__",
        "outputId": "f6e8fd44-431b-4991-fe17-0fbb2b288186"
      },
      "execution_count": 49,
      "outputs": [
        {
          "output_type": "stream",
          "name": "stdout",
          "text": [
            "1/1 [==============================] - 0s 24ms/step\n"
          ]
        },
        {
          "output_type": "execute_result",
          "data": {
            "text/plain": [
              "array([[1.70271037e-14, 3.05340157e-16, 2.49489873e-10, 2.06616907e-12,\n",
              "        2.31541132e-13, 1.01436874e-16, 1.19260937e-15, 2.90752331e-17,\n",
              "        2.13627334e-13, 1.63641800e-19, 9.93584801e-17, 1.19875787e-15,\n",
              "        3.82080548e-16, 2.31502816e-12, 1.00000000e+00]], dtype=float32)"
            ]
          },
          "metadata": {},
          "execution_count": 49
        }
      ]
    },
    {
      "cell_type": "code",
      "source": [
        "class_labels = ['Bean', 'Bitter_Gourd', 'Bottle_Gourd', 'Brinjal', 'Broccoli', 'Cabbage', 'Capsicum', 'Carrot', 'Cauliflower', 'Cucumber', 'Papaya', 'Potato', 'Pumpkin', 'Radish', 'Tomato']\n",
        "print(\"Class Labels:\", class_labels)"
      ],
      "metadata": {
        "colab": {
          "base_uri": "https://localhost:8080/"
        },
        "id": "AF65A7MyVGMK",
        "outputId": "eebf17f1-809a-4a3f-85c1-2826314a0ac3"
      },
      "execution_count": 50,
      "outputs": [
        {
          "output_type": "stream",
          "name": "stdout",
          "text": [
            "Class Labels: ['Bean', 'Bitter_Gourd', 'Bottle_Gourd', 'Brinjal', 'Broccoli', 'Cabbage', 'Capsicum', 'Carrot', 'Cauliflower', 'Cucumber', 'Papaya', 'Potato', 'Pumpkin', 'Radish', 'Tomato']\n"
          ]
        }
      ]
    },
    {
      "cell_type": "code",
      "source": [
        "preds = dict(zip(class_labels, pred[0]))"
      ],
      "metadata": {
        "id": "7wshd-BfUaFq"
      },
      "execution_count": 51,
      "outputs": []
    },
    {
      "cell_type": "code",
      "source": [
        "max_value = max(preds[label] for label in class_labels)\n",
        "max_label = [label for label in class_labels if preds[label] == max_value]\n",
        "\n",
        "print(f\"Ini adalah buah : {max_label}\")"
      ],
      "metadata": {
        "colab": {
          "base_uri": "https://localhost:8080/"
        },
        "id": "ChyiMMLFUV7K",
        "outputId": "004e2e31-5250-4809-da9c-ddc5df3cf332"
      },
      "execution_count": 54,
      "outputs": [
        {
          "output_type": "stream",
          "name": "stdout",
          "text": [
            "Ini adalah buah : ['Tomato']\n"
          ]
        }
      ]
    },
    {
      "cell_type": "markdown",
      "source": [
        "## Menyimpan Model"
      ],
      "metadata": {
        "id": "O-cuMVoJkmQh"
      }
    },
    {
      "cell_type": "code",
      "source": [
        "import pathlib\n",
        "# Menyimpan model dalam format SavedModel\n",
        "export_dir = 'saved_model/'\n",
        "tf.saved_model.save(model, export_dir)\n",
        "\n",
        "# Convert SavedModel menjadi vegetable.tflite\n",
        "converter = tf.lite.TFLiteConverter.from_saved_model(export_dir)\n",
        "tflite_model = converter.convert()\n",
        "\n",
        "tflite_model_file = pathlib.Path('vegetable.tflite')\n",
        "tflite_model_file.write_bytes(tflite_model)"
      ],
      "metadata": {
        "id": "dDvAfErlkHbI",
        "colab": {
          "base_uri": "https://localhost:8080/"
        },
        "outputId": "57a9a648-b68f-4f2c-a56b-1bacf59705fe"
      },
      "execution_count": 32,
      "outputs": [
        {
          "output_type": "execute_result",
          "data": {
            "text/plain": [
              "16703772"
            ]
          },
          "metadata": {},
          "execution_count": 32
        }
      ]
    },
    {
      "cell_type": "code",
      "source": [
        "%cd /content"
      ],
      "metadata": {
        "id": "A_FCiRGbB5i1",
        "colab": {
          "base_uri": "https://localhost:8080/"
        },
        "outputId": "0c370a76-c0c5-46f9-d7f5-97fe5e68c71c"
      },
      "execution_count": 33,
      "outputs": [
        {
          "output_type": "stream",
          "name": "stdout",
          "text": [
            "/content\n"
          ]
        }
      ]
    },
    {
      "cell_type": "code",
      "source": [
        "!zip -r veg_model.zip saved_model/"
      ],
      "metadata": {
        "id": "wWL-xp4wBuv_",
        "colab": {
          "base_uri": "https://localhost:8080/"
        },
        "outputId": "3c8f2516-18d1-4e66-dfcc-6874390e4993"
      },
      "execution_count": 34,
      "outputs": [
        {
          "output_type": "stream",
          "name": "stdout",
          "text": [
            "  adding: saved_model/ (stored 0%)\n",
            "  adding: saved_model/assets/ (stored 0%)\n",
            "  adding: saved_model/fingerprint.pb (stored 0%)\n",
            "  adding: saved_model/saved_model.pb (deflated 91%)\n",
            "  adding: saved_model/variables/ (stored 0%)\n",
            "  adding: saved_model/variables/variables.data-00000-of-00001 (deflated 8%)\n",
            "  adding: saved_model/variables/variables.index (deflated 74%)\n"
          ]
        }
      ]
    },
    {
      "cell_type": "code",
      "source": [
        "from google.colab import files\n",
        "files.download('veg_model.zip')"
      ],
      "metadata": {
        "id": "EhmMgmwnCM0E",
        "colab": {
          "base_uri": "https://localhost:8080/",
          "height": 17
        },
        "outputId": "cad5b349-61c1-49dd-d80b-1458db74540b"
      },
      "execution_count": 35,
      "outputs": [
        {
          "output_type": "display_data",
          "data": {
            "text/plain": [
              "<IPython.core.display.Javascript object>"
            ],
            "application/javascript": [
              "\n",
              "    async function download(id, filename, size) {\n",
              "      if (!google.colab.kernel.accessAllowed) {\n",
              "        return;\n",
              "      }\n",
              "      const div = document.createElement('div');\n",
              "      const label = document.createElement('label');\n",
              "      label.textContent = `Downloading \"${filename}\": `;\n",
              "      div.appendChild(label);\n",
              "      const progress = document.createElement('progress');\n",
              "      progress.max = size;\n",
              "      div.appendChild(progress);\n",
              "      document.body.appendChild(div);\n",
              "\n",
              "      const buffers = [];\n",
              "      let downloaded = 0;\n",
              "\n",
              "      const channel = await google.colab.kernel.comms.open(id);\n",
              "      // Send a message to notify the kernel that we're ready.\n",
              "      channel.send({})\n",
              "\n",
              "      for await (const message of channel.messages) {\n",
              "        // Send a message to notify the kernel that we're ready.\n",
              "        channel.send({})\n",
              "        if (message.buffers) {\n",
              "          for (const buffer of message.buffers) {\n",
              "            buffers.push(buffer);\n",
              "            downloaded += buffer.byteLength;\n",
              "            progress.value = downloaded;\n",
              "          }\n",
              "        }\n",
              "      }\n",
              "      const blob = new Blob(buffers, {type: 'application/binary'});\n",
              "      const a = document.createElement('a');\n",
              "      a.href = window.URL.createObjectURL(blob);\n",
              "      a.download = filename;\n",
              "      div.appendChild(a);\n",
              "      a.click();\n",
              "      div.remove();\n",
              "    }\n",
              "  "
            ]
          },
          "metadata": {}
        },
        {
          "output_type": "display_data",
          "data": {
            "text/plain": [
              "<IPython.core.display.Javascript object>"
            ],
            "application/javascript": [
              "download(\"download_bc950835-c672-4611-8f8e-b54b0ef5a5ed\", \"veg_model.zip\", 17224474)"
            ]
          },
          "metadata": {}
        }
      ]
    }
  ],
  "metadata": {
    "colab": {
      "provenance": [],
      "gpuType": "T4"
    },
    "kernelspec": {
      "display_name": "Python 3",
      "name": "python3"
    },
    "language_info": {
      "name": "python"
    },
    "accelerator": "GPU"
  },
  "nbformat": 4,
  "nbformat_minor": 0
}