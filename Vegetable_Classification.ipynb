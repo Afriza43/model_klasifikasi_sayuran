{
  "cells": [
    {
      "cell_type": "markdown",
      "metadata": {
        "id": "IWrKfuwcH3eW"
      },
      "source": [
        "# Vegetables Classification"
      ]
    },
    {
      "cell_type": "markdown",
      "metadata": {
        "id": "3bQ6ko0UHyC5"
      },
      "source": [
        "## Import Library"
      ]
    },
    {
      "cell_type": "code",
      "execution_count": null,
      "metadata": {
        "id": "vilf93Q0Fiwb"
      },
      "outputs": [],
      "source": [
        "import numpy as np\n",
        "import pandas as pd\n",
        "import matplotlib.pyplot as plt\n",
        "import tensorflow as tf\n",
        "from tensorflow import keras\n",
        "from keras.layers import Conv2D, MaxPooling2D, Flatten, Dense, BatchNormalization, Dropout ,GlobalAveragePooling2D\n",
        "from keras.models import Sequential\n",
        "from keras.preprocessing import image\n",
        "from keras.preprocessing.image import ImageDataGenerator\n",
        "from tensorflow.keras.applications import VGG16\n",
        "from sklearn.metrics import confusion_matrix,classification_report\n",
        "import os, shutil\n",
        "import warnings\n",
        "warnings.filterwarnings('ignore')"
      ]
    },
    {
      "cell_type": "markdown",
      "metadata": {
        "id": "JyysaNbMH0_O"
      },
      "source": [
        "## Download Dataset"
      ]
    },
    {
      "cell_type": "code",
      "execution_count": null,
      "metadata": {
        "colab": {
          "base_uri": "https://localhost:8080/"
        },
        "id": "jqlat_GOGOT5",
        "outputId": "b5ffdccf-d316-4b5e-da77-10d4e3bd5ad5"
      },
      "outputs": [
        {
          "output_type": "stream",
          "name": "stdout",
          "text": [
            "Please provide your Kaggle credentials to download this dataset. Learn more: http://bit.ly/kaggle-creds\n",
            "Your Kaggle username: afrizameidioandhana\n",
            "Your Kaggle Key: ··········\n",
            "Downloading vegetable-image-dataset.zip to ./vegetable-image-dataset\n"
          ]
        },
        {
          "output_type": "stream",
          "name": "stderr",
          "text": [
            "100%|██████████| 534M/534M [00:06<00:00, 83.3MB/s]\n"
          ]
        },
        {
          "output_type": "stream",
          "name": "stdout",
          "text": [
            "\n"
          ]
        }
      ],
      "source": [
        "!pip install -q opendatasets\n",
        "\n",
        "import opendatasets as od\n",
        "\n",
        "od.download('https://www.kaggle.com/datasets/misrakahmed/vegetable-image-dataset')"
      ]
    },
    {
      "cell_type": "code",
      "source": [
        "pip install split-folders"
      ],
      "metadata": {
        "colab": {
          "base_uri": "https://localhost:8080/"
        },
        "id": "E4lJhd-YyF8a",
        "outputId": "63fdeabd-c329-43f5-cfdb-c2302d7c2a0b"
      },
      "execution_count": null,
      "outputs": [
        {
          "output_type": "stream",
          "name": "stdout",
          "text": [
            "Collecting split-folders\n",
            "  Using cached split_folders-0.5.1-py3-none-any.whl (8.4 kB)\n",
            "Installing collected packages: split-folders\n",
            "Successfully installed split-folders-0.5.1\n"
          ]
        }
      ]
    },
    {
      "cell_type": "code",
      "source": [
        "import splitfolders\n",
        "splitfolders.ratio('/content/vegetable-image-dataset/Vegetable Images/train', output=\"dataset\", seed=1337, ratio=(.8, 0.2))"
      ],
      "metadata": {
        "colab": {
          "base_uri": "https://localhost:8080/"
        },
        "id": "_TxL3sm2yx6j",
        "outputId": "0ea86f9a-6133-4c1f-fa75-c9a35e418c9a"
      },
      "execution_count": null,
      "outputs": [
        {
          "output_type": "stream",
          "name": "stderr",
          "text": [
            "Copying files: 15000 files [00:04, 3175.76 files/s]\n"
          ]
        }
      ]
    },
    {
      "cell_type": "code",
      "execution_count": null,
      "metadata": {
        "id": "wFPan0s5F1QG"
      },
      "outputs": [],
      "source": [
        "train_data = \"/content/dataset/train\"\n",
        "validation_data = \"/content/dataset/val\""
      ]
    },
    {
      "cell_type": "markdown",
      "source": [
        "## Augmentasi Gambar"
      ],
      "metadata": {
        "id": "yVhzF9UrkUlF"
      }
    },
    {
      "cell_type": "code",
      "execution_count": null,
      "metadata": {
        "colab": {
          "base_uri": "https://localhost:8080/"
        },
        "id": "dvEv9g9uHxnw",
        "outputId": "3ae41322-79d3-4692-c85c-813b8c4a77e5"
      },
      "outputs": [
        {
          "output_type": "stream",
          "name": "stdout",
          "text": [
            "Found 12000 images belonging to 15 classes.\n",
            "Found 3000 images belonging to 15 classes.\n"
          ]
        }
      ],
      "source": [
        "train_gen = ImageDataGenerator( featurewise_center=False,\n",
        "                                samplewise_center=False,\n",
        "                                featurewise_std_normalization=False,\n",
        "                                samplewise_std_normalization=False,\n",
        "                                zca_whitening=False,\n",
        "                                rotation_range=10,\n",
        "                                zoom_range = 0.1,\n",
        "                                width_shift_range=0.2,\n",
        "                                height_shift_range=0.2,\n",
        "                                horizontal_flip=True,\n",
        "                                vertical_flip=False,\n",
        "                              )\n",
        "\n",
        "train_image_generator = train_gen.flow_from_directory(\n",
        "                                            train_data,\n",
        "                                            target_size=(150, 150),\n",
        "                                            batch_size=32,\n",
        "                                            class_mode='categorical')\n",
        "\n",
        "\n",
        "val_gen = ImageDataGenerator()\n",
        "val_image_generator = val_gen.flow_from_directory(\n",
        "                                            validation_data,\n",
        "                                            target_size=(150, 150),\n",
        "                                            batch_size=32,\n",
        "                                            class_mode='categorical')"
      ]
    },
    {
      "cell_type": "markdown",
      "source": [
        "## CNN Model"
      ],
      "metadata": {
        "id": "1t9kxbYlkahZ"
      }
    },
    {
      "cell_type": "code",
      "execution_count": null,
      "metadata": {
        "id": "f-CyIDEQIRKg",
        "colab": {
          "base_uri": "https://localhost:8080/"
        },
        "outputId": "2e69f4d3-5707-475e-ecc7-24d03538a763"
      },
      "outputs": [
        {
          "output_type": "stream",
          "name": "stdout",
          "text": [
            "Model: \"sequential\"\n",
            "_________________________________________________________________\n",
            " Layer (type)                Output Shape              Param #   \n",
            "=================================================================\n",
            " conv2d (Conv2D)             (None, 150, 150, 32)      2432      \n",
            "                                                                 \n",
            " max_pooling2d (MaxPooling2  (None, 75, 75, 32)        0         \n",
            " D)                                                              \n",
            "                                                                 \n",
            " conv2d_1 (Conv2D)           (None, 75, 75, 64)        18496     \n",
            "                                                                 \n",
            " max_pooling2d_1 (MaxPoolin  (None, 37, 37, 64)        0         \n",
            " g2D)                                                            \n",
            "                                                                 \n",
            " conv2d_2 (Conv2D)           (None, 37, 37, 96)        153696    \n",
            "                                                                 \n",
            " max_pooling2d_2 (MaxPoolin  (None, 18, 18, 96)        0         \n",
            " g2D)                                                            \n",
            "                                                                 \n",
            " conv2d_3 (Conv2D)           (None, 18, 18, 96)        83040     \n",
            "                                                                 \n",
            " max_pooling2d_3 (MaxPoolin  (None, 9, 9, 96)          0         \n",
            " g2D)                                                            \n",
            "                                                                 \n",
            " flatten (Flatten)           (None, 7776)              0         \n",
            "                                                                 \n",
            " dense (Dense)               (None, 512)               3981824   \n",
            "                                                                 \n",
            " batch_normalization (Batch  (None, 512)               2048      \n",
            " Normalization)                                                  \n",
            "                                                                 \n",
            " dropout (Dropout)           (None, 512)               0         \n",
            "                                                                 \n",
            " dense_1 (Dense)             (None, 512)               262656    \n",
            "                                                                 \n",
            " dense_2 (Dense)             (None, 15)                7695      \n",
            "                                                                 \n",
            "=================================================================\n",
            "Total params: 4511887 (17.21 MB)\n",
            "Trainable params: 4510863 (17.21 MB)\n",
            "Non-trainable params: 1024 (4.00 KB)\n",
            "_________________________________________________________________\n"
          ]
        }
      ],
      "source": [
        "model = tf.keras.models.Sequential([\n",
        "    Conv2D(filters = 32, kernel_size = (5,5),padding = 'Same',activation ='relu', input_shape = (150,150,3)),\n",
        "    MaxPooling2D(pool_size=(2, 2)),\n",
        "    Conv2D(filters = 64, kernel_size = (3,3),padding = 'Same',activation ='relu'),\n",
        "    MaxPooling2D(pool_size=(2,2), strides=(2,2)),\n",
        "    Conv2D(filters = 96, kernel_size = (5,5),padding = 'Same',activation ='relu', input_shape = (150,150,3)),\n",
        "    MaxPooling2D(pool_size=(2, 2)),\n",
        "    Conv2D(filters = 96, kernel_size = (3,3),padding = 'Same',activation ='relu'),\n",
        "    MaxPooling2D(pool_size=(2,2), strides=(2,2)),\n",
        "    Flatten(),\n",
        "    Dense(512,activation='relu'),\n",
        "    BatchNormalization(),\n",
        "    Dropout(0.25),\n",
        "    Dense(512,activation='relu'),\n",
        "    Dense(15, activation = \"softmax\"),\n",
        "])\n",
        "\n",
        "model.summary()"
      ]
    },
    {
      "cell_type": "code",
      "execution_count": null,
      "metadata": {
        "id": "RlXEi7mCJTDv"
      },
      "outputs": [],
      "source": [
        "model.compile(optimizer=tf.keras.optimizers.Adam(learning_rate=0.0001), loss='categorical_crossentropy', metrics='accuracy')"
      ]
    },
    {
      "cell_type": "markdown",
      "source": [
        "## Callback"
      ],
      "metadata": {
        "id": "E2MGE8yykdaQ"
      }
    },
    {
      "cell_type": "code",
      "execution_count": null,
      "metadata": {
        "id": "rQIGtXDqJYKe"
      },
      "outputs": [],
      "source": [
        "class myCallback(tf.keras.callbacks.Callback):\n",
        "  def on_epoch_end(self, epoch, logs={}):\n",
        "    if(logs.get('accuracy')>0.92 and logs.get('val_accuracy')>0.92):\n",
        "      print(\"accuracy > 92% skala data\")\n",
        "      self.model.stop_training = True\n",
        "callbacks = myCallback()\n",
        "\n",
        "early_stopping = keras.callbacks.EarlyStopping(patience=3,monitor='val_loss',restore_best_weights=True)"
      ]
    },
    {
      "cell_type": "markdown",
      "source": [
        "## Model Train"
      ],
      "metadata": {
        "id": "ZSdwtYWckfLi"
      }
    },
    {
      "cell_type": "code",
      "execution_count": 22,
      "metadata": {
        "id": "xhUzw3p4JZTo",
        "colab": {
          "base_uri": "https://localhost:8080/"
        },
        "outputId": "8cc93ac3-30b5-4086-ee4a-71d05efb6168"
      },
      "outputs": [
        {
          "output_type": "stream",
          "name": "stdout",
          "text": [
            "Epoch 1/50\n",
            "468/468 [==============================] - 1161s 2s/step - loss: 0.3175 - accuracy: 0.9026 - val_loss: 0.4385 - val_accuracy: 0.8606\n",
            "Epoch 2/50\n",
            "468/468 [==============================] - 1167s 2s/step - loss: 0.2498 - accuracy: 0.9219 - val_loss: 0.2935 - val_accuracy: 0.9126\n",
            "Epoch 3/50\n",
            "468/468 [==============================] - ETA: 0s - loss: 0.2024 - accuracy: 0.9387accuracy > 92% skala data\n",
            "468/468 [==============================] - 1154s 2s/step - loss: 0.2024 - accuracy: 0.9387 - val_loss: 0.1826 - val_accuracy: 0.9446\n"
          ]
        }
      ],
      "source": [
        "history = model.fit(train_image_generator,\n",
        "                 epochs=50,\n",
        "                 verbose=1,\n",
        "                 validation_data=val_image_generator,\n",
        "                 steps_per_epoch = 15000//32,\n",
        "                 validation_steps = 3000//32,\n",
        "                  callbacks=[callbacks],\n",
        "                 workers=4\n",
        "                )"
      ]
    },
    {
      "cell_type": "markdown",
      "source": [
        "## Evaluasi Model"
      ],
      "metadata": {
        "id": "teXEPv7mkiY9"
      }
    },
    {
      "cell_type": "code",
      "source": [
        "model.evaluate(train_image_generator)"
      ],
      "metadata": {
        "colab": {
          "base_uri": "https://localhost:8080/"
        },
        "id": "DPsQNSSMch9X",
        "outputId": "7924edf7-b4fc-4687-b78d-ac538e0f8756"
      },
      "execution_count": 29,
      "outputs": [
        {
          "output_type": "stream",
          "name": "stdout",
          "text": [
            "375/375 [==============================] - 297s 792ms/step - loss: 0.1326 - accuracy: 0.9592\n"
          ]
        },
        {
          "output_type": "execute_result",
          "data": {
            "text/plain": [
              "[0.1325654238462448, 0.9591666460037231]"
            ]
          },
          "metadata": {},
          "execution_count": 29
        }
      ]
    },
    {
      "cell_type": "code",
      "source": [
        "model.evaluate(val_image_generator)"
      ],
      "metadata": {
        "colab": {
          "base_uri": "https://localhost:8080/"
        },
        "id": "brMJTA2ZcmMT",
        "outputId": "066d7fc8-9fb7-492c-e48e-ead8bdb4d832"
      },
      "execution_count": 30,
      "outputs": [
        {
          "output_type": "stream",
          "name": "stdout",
          "text": [
            "94/94 [==============================] - 61s 651ms/step - loss: 0.1823 - accuracy: 0.9443\n"
          ]
        },
        {
          "output_type": "execute_result",
          "data": {
            "text/plain": [
              "[0.18225297331809998, 0.9443333148956299]"
            ]
          },
          "metadata": {},
          "execution_count": 30
        }
      ]
    },
    {
      "cell_type": "code",
      "execution_count": 23,
      "metadata": {
        "id": "ZMxt-K46KgSt",
        "colab": {
          "base_uri": "https://localhost:8080/",
          "height": 447
        },
        "outputId": "fa0a3adf-69ca-4772-9dd7-afb67f908c60"
      },
      "outputs": [
        {
          "output_type": "execute_result",
          "data": {
            "text/plain": [
              "<Axes: >"
            ]
          },
          "metadata": {},
          "execution_count": 23
        },
        {
          "output_type": "display_data",
          "data": {
            "text/plain": [
              "<Figure size 640x480 with 1 Axes>"
            ],
            "image/png": "[encoded data removed]"
          },
          "metadata": {}
        }
      ],
      "source": [
        "pd.DataFrame(history.history).plot()"
      ]
    },
    {
      "cell_type": "markdown",
      "source": [
        "## Menyimpan Model"
      ],
      "metadata": {
        "id": "O-cuMVoJkmQh"
      }
    },
    {
      "cell_type": "code",
      "source": [
        "import pathlib\n",
        "# Menyimpan model dalam format SavedModel\n",
        "export_dir = 'saved_model/'\n",
        "tf.saved_model.save(model, export_dir)\n",
        "\n",
        "# Convert SavedModel menjadi vegetable.tflite\n",
        "converter = tf.lite.TFLiteConverter.from_saved_model(export_dir)\n",
        "tflite_model = converter.convert()\n",
        "\n",
        "tflite_model_file = pathlib.Path('vegetable.tflite')\n",
        "tflite_model_file.write_bytes(tflite_model)"
      ],
      "metadata": {
        "id": "dDvAfErlkHbI",
        "colab": {
          "base_uri": "https://localhost:8080/"
        },
        "outputId": "e62443fc-ca2c-4713-8248-cf6c49a5d8cb"
      },
      "execution_count": 24,
      "outputs": [
        {
          "output_type": "execute_result",
          "data": {
            "text/plain": [
              "18044800"
            ]
          },
          "metadata": {},
          "execution_count": 24
        }
      ]
    },
    {
      "cell_type": "code",
      "source": [
        "%cd /content"
      ],
      "metadata": {
        "id": "A_FCiRGbB5i1",
        "colab": {
          "base_uri": "https://localhost:8080/"
        },
        "outputId": "83b55942-8a5d-4047-f1fd-ff5e52dab079"
      },
      "execution_count": 25,
      "outputs": [
        {
          "output_type": "stream",
          "name": "stdout",
          "text": [
            "/content\n"
          ]
        }
      ]
    },
    {
      "cell_type": "code",
      "source": [
        "!zip -r veg_model.zip saved_model/"
      ],
      "metadata": {
        "id": "wWL-xp4wBuv_",
        "colab": {
          "base_uri": "https://localhost:8080/"
        },
        "outputId": "f3d2407f-a18d-4272-b91d-ae028bbed311"
      },
      "execution_count": 26,
      "outputs": [
        {
          "output_type": "stream",
          "name": "stdout",
          "text": [
            "updating: saved_model/ (stored 0%)\n",
            "updating: saved_model/saved_model.pb (deflated 87%)\n",
            "updating: saved_model/variables/ (stored 0%)\n",
            "updating: saved_model/variables/variables.data-00000-of-00001 (deflated 8%)\n",
            "updating: saved_model/variables/variables.index (deflated 66%)\n",
            "updating: saved_model/assets/ (stored 0%)\n",
            "updating: saved_model/fingerprint.pb (stored 0%)\n"
          ]
        }
      ]
    },
    {
      "cell_type": "code",
      "source": [
        "from google.colab import files\n",
        "files.download('veg_model.zip')"
      ],
      "metadata": {
        "id": "EhmMgmwnCM0E",
        "colab": {
          "base_uri": "https://localhost:8080/",
          "height": 34
        },
        "outputId": "3da6d45c-ff89-41b0-9b89-46cab2a818c1"
      },
      "execution_count": 28,
      "outputs": [
        {
          "output_type": "display_data",
          "data": {
            "text/plain": [
              "<IPython.core.display.Javascript object>"
            ],
            "application/javascript": [
              "\n",
              "    async function download(id, filename, size) {\n",
              "      if (!google.colab.kernel.accessAllowed) {\n",
              "        return;\n",
              "      }\n",
              "      const div = document.createElement('div');\n",
              "      const label = document.createElement('label');\n",
              "      label.textContent = `Downloading \"${filename}\": `;\n",
              "      div.appendChild(label);\n",
              "      const progress = document.createElement('progress');\n",
              "      progress.max = size;\n",
              "      div.appendChild(progress);\n",
              "      document.body.appendChild(div);\n",
              "\n",
              "      const buffers = [];\n",
              "      let downloaded = 0;\n",
              "\n",
              "      const channel = await google.colab.kernel.comms.open(id);\n",
              "      // Send a message to notify the kernel that we're ready.\n",
              "      channel.send({})\n",
              "\n",
              "      for await (const message of channel.messages) {\n",
              "        // Send a message to notify the kernel that we're ready.\n",
              "        channel.send({})\n",
              "        if (message.buffers) {\n",
              "          for (const buffer of message.buffers) {\n",
              "            buffers.push(buffer);\n",
              "            downloaded += buffer.byteLength;\n",
              "            progress.value = downloaded;\n",
              "          }\n",
              "        }\n",
              "      }\n",
              "      const blob = new Blob(buffers, {type: 'application/binary'});\n",
              "      const a = document.createElement('a');\n",
              "      a.href = window.URL.createObjectURL(blob);\n",
              "      a.download = filename;\n",
              "      div.appendChild(a);\n",
              "      a.click();\n",
              "      div.remove();\n",
              "    }\n",
              "  "
            ]
          },
          "metadata": {}
        },
        {
          "output_type": "display_data",
          "data": {
            "text/plain": [
              "<IPython.core.display.Javascript object>"
            ],
            "application/javascript": [
              "download(\"download_fc0d97c2-a8dc-45b7-bc59-4d321671abe7\", \"veg_model.zip\", 49636686)"
            ]
          },
          "metadata": {}
        }
      ]
    }
  ],
  "metadata": {
    "colab": {
      "provenance": []
    },
    "kernelspec": {
      "display_name": "Python 3",
      "name": "python3"
    },
    "language_info": {
      "name": "python"
    }
  },
  "nbformat": 4,
  "nbformat_minor": 0
}